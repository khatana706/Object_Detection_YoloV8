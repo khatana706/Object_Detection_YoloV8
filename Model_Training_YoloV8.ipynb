{
  "nbformat": 4,
  "nbformat_minor": 0,
  "metadata": {
    "colab": {
      "provenance": []
    },
    "kernelspec": {
      "name": "python3",
      "display_name": "Python 3"
    },
    "language_info": {
      "name": "python"
    },
    "accelerator": "GPU",
    "gpuClass": "standard"
  },
  "cells": [
    {
      "cell_type": "code",
      "execution_count": null,
      "metadata": {
        "colab": {
          "base_uri": "https://localhost:8080/"
        },
        "id": "epHshJ1wNqJv",
        "outputId": "cd5414f7-41ae-4e70-a37e-d09c45d05c2c"
      },
      "outputs": [
        {
          "output_type": "stream",
          "name": "stdout",
          "text": [
            "Mounted at /content/drive\n"
          ]
        }
      ],
      "source": [
        "from google.colab import drive\n",
        "drive.mount('/content/drive')"
      ]
    },
    {
      "cell_type": "code",
      "source": [
        "%cd /content/drive/MyDrive/YoloV8"
      ],
      "metadata": {
        "colab": {
          "base_uri": "https://localhost:8080/"
        },
        "id": "arpchKDmPOHg",
        "outputId": "8248aa86-d0e1-40f3-9d50-151a9ef042c5"
      },
      "execution_count": null,
      "outputs": [
        {
          "output_type": "stream",
          "name": "stdout",
          "text": [
            "/content/drive/MyDrive/YoloV8\n"
          ]
        }
      ]
    },
    {
      "cell_type": "code",
      "source": [
        "#!git clone https://github.com/ultralytics/ultralytics.git"
      ],
      "metadata": {
        "id": "WbwosxT4POCj"
      },
      "execution_count": null,
      "outputs": []
    },
    {
      "cell_type": "code",
      "source": [
        "%pip install ultralytics\n",
        "import ultralytics\n",
        "ultralytics.checks()"
      ],
      "metadata": {
        "colab": {
          "base_uri": "https://localhost:8080/",
          "height": 1000
        },
        "id": "VnVfxQ1iQmpa",
        "outputId": "3b0fce4c-37a0-40b0-8259-7aca94723f2c"
      },
      "execution_count": null,
      "outputs": [
        {
          "output_type": "stream",
          "name": "stderr",
          "text": [
            "Ultralytics YOLOv8.0.3 🚀 Python-3.8.16 torch-1.13.0+cu116 CUDA:0 (Tesla T4, 15110MiB)\n",
            "Setup complete ✅ (2 CPUs, 12.7 GB RAM, 23.0/78.2 GB disk)\n"
          ]
        }
      ]
    },
    {
      "cell_type": "code",
      "source": [
        "!git clone https://github.com/ultralytics/ultralytics\n",
        "%pip install -qe ultralytics"
      ],
      "metadata": {
        "colab": {
          "base_uri": "https://localhost:8080/"
        },
        "id": "aX1A7zLAQmoA",
        "outputId": "9cfdf711-0bbb-44b2-f848-840d1216b129"
      },
      "execution_count": null,
      "outputs": [
        {
          "output_type": "stream",
          "name": "stdout",
          "text": [
            "fatal: destination path 'ultralytics' already exists and is not an empty directory.\n",
            "  Preparing metadata (setup.py) ... \u001b[?25l\u001b[?25hdone\n"
          ]
        }
      ]
    },
    {
      "cell_type": "code",
      "source": [
        "!pip install -r /content/drive/MyDrive/YoloV8/ultralytics/requirements.txt"
      ],
      "metadata": {
        "id": "5tQG8gisPOBb",
        "colab": {
          "base_uri": "https://localhost:8080/"
        },
        "outputId": "b74b226d-f730-4a9a-df13-9635f9e81457"
      },
      "execution_count": null,
      "outputs": [
        {
          "output_type": "stream",
          "name": "stdout",
          "text": [
            "Looking in indexes: https://pypi.org/simple, https://us-python.pkg.dev/colab-wheels/public/simple/\n",
            "Requirement already satisfied: hydra-core>=1.2.0 in /usr/local/lib/python3.8/dist-packages (from -r /content/drive/MyDrive/YoloV8/ultralytics/requirements.txt (line 5)) (1.3.1)\n",
            "Requirement already satisfied: matplotlib>=3.2.2 in /usr/local/lib/python3.8/dist-packages (from -r /content/drive/MyDrive/YoloV8/ultralytics/requirements.txt (line 6)) (3.2.2)\n",
            "Requirement already satisfied: numpy>=1.18.5 in /usr/local/lib/python3.8/dist-packages (from -r /content/drive/MyDrive/YoloV8/ultralytics/requirements.txt (line 7)) (1.21.6)\n",
            "Requirement already satisfied: opencv-python>=4.1.1 in /usr/local/lib/python3.8/dist-packages (from -r /content/drive/MyDrive/YoloV8/ultralytics/requirements.txt (line 8)) (4.6.0.66)\n",
            "Requirement already satisfied: Pillow>=7.1.2 in /usr/local/lib/python3.8/dist-packages (from -r /content/drive/MyDrive/YoloV8/ultralytics/requirements.txt (line 9)) (7.1.2)\n",
            "Requirement already satisfied: PyYAML>=5.3.1 in /usr/local/lib/python3.8/dist-packages (from -r /content/drive/MyDrive/YoloV8/ultralytics/requirements.txt (line 10)) (6.0)\n",
            "Requirement already satisfied: requests>=2.23.0 in /usr/local/lib/python3.8/dist-packages (from -r /content/drive/MyDrive/YoloV8/ultralytics/requirements.txt (line 11)) (2.25.1)\n",
            "Requirement already satisfied: scipy>=1.4.1 in /usr/local/lib/python3.8/dist-packages (from -r /content/drive/MyDrive/YoloV8/ultralytics/requirements.txt (line 12)) (1.7.3)\n",
            "Requirement already satisfied: torch>=1.7.0 in /usr/local/lib/python3.8/dist-packages (from -r /content/drive/MyDrive/YoloV8/ultralytics/requirements.txt (line 13)) (1.13.0+cu116)\n",
            "Requirement already satisfied: torchvision>=0.8.1 in /usr/local/lib/python3.8/dist-packages (from -r /content/drive/MyDrive/YoloV8/ultralytics/requirements.txt (line 14)) (0.14.0+cu116)\n",
            "Requirement already satisfied: tqdm>=4.64.0 in /usr/local/lib/python3.8/dist-packages (from -r /content/drive/MyDrive/YoloV8/ultralytics/requirements.txt (line 15)) (4.64.1)\n",
            "Requirement already satisfied: tensorboard>=2.4.1 in /usr/local/lib/python3.8/dist-packages (from -r /content/drive/MyDrive/YoloV8/ultralytics/requirements.txt (line 18)) (2.9.1)\n",
            "Requirement already satisfied: pandas>=1.1.4 in /usr/local/lib/python3.8/dist-packages (from -r /content/drive/MyDrive/YoloV8/ultralytics/requirements.txt (line 23)) (1.3.5)\n",
            "Requirement already satisfied: seaborn>=0.11.0 in /usr/local/lib/python3.8/dist-packages (from -r /content/drive/MyDrive/YoloV8/ultralytics/requirements.txt (line 24)) (0.11.2)\n",
            "Requirement already satisfied: ipython in /usr/local/lib/python3.8/dist-packages (from -r /content/drive/MyDrive/YoloV8/ultralytics/requirements.txt (line 38)) (7.9.0)\n",
            "Requirement already satisfied: psutil in /usr/local/lib/python3.8/dist-packages (from -r /content/drive/MyDrive/YoloV8/ultralytics/requirements.txt (line 39)) (5.4.8)\n",
            "Requirement already satisfied: thop>=0.1.1 in /usr/local/lib/python3.8/dist-packages (from -r /content/drive/MyDrive/YoloV8/ultralytics/requirements.txt (line 40)) (0.1.1.post2209072238)\n",
            "Requirement already satisfied: GitPython>=3.1.24 in /usr/local/lib/python3.8/dist-packages (from -r /content/drive/MyDrive/YoloV8/ultralytics/requirements.txt (line 46)) (3.1.30)\n",
            "Requirement already satisfied: omegaconf<2.4,>=2.2 in /usr/local/lib/python3.8/dist-packages (from hydra-core>=1.2.0->-r /content/drive/MyDrive/YoloV8/ultralytics/requirements.txt (line 5)) (2.3.0)\n",
            "Requirement already satisfied: importlib-resources in /usr/local/lib/python3.8/dist-packages (from hydra-core>=1.2.0->-r /content/drive/MyDrive/YoloV8/ultralytics/requirements.txt (line 5)) (5.10.2)\n",
            "Requirement already satisfied: antlr4-python3-runtime==4.9.* in /usr/local/lib/python3.8/dist-packages (from hydra-core>=1.2.0->-r /content/drive/MyDrive/YoloV8/ultralytics/requirements.txt (line 5)) (4.9.3)\n",
            "Requirement already satisfied: packaging in /usr/local/lib/python3.8/dist-packages (from hydra-core>=1.2.0->-r /content/drive/MyDrive/YoloV8/ultralytics/requirements.txt (line 5)) (21.3)\n",
            "Requirement already satisfied: kiwisolver>=1.0.1 in /usr/local/lib/python3.8/dist-packages (from matplotlib>=3.2.2->-r /content/drive/MyDrive/YoloV8/ultralytics/requirements.txt (line 6)) (1.4.4)\n",
            "Requirement already satisfied: cycler>=0.10 in /usr/local/lib/python3.8/dist-packages (from matplotlib>=3.2.2->-r /content/drive/MyDrive/YoloV8/ultralytics/requirements.txt (line 6)) (0.11.0)\n",
            "Requirement already satisfied: pyparsing!=2.0.4,!=2.1.2,!=2.1.6,>=2.0.1 in /usr/local/lib/python3.8/dist-packages (from matplotlib>=3.2.2->-r /content/drive/MyDrive/YoloV8/ultralytics/requirements.txt (line 6)) (3.0.9)\n",
            "Requirement already satisfied: python-dateutil>=2.1 in /usr/local/lib/python3.8/dist-packages (from matplotlib>=3.2.2->-r /content/drive/MyDrive/YoloV8/ultralytics/requirements.txt (line 6)) (2.8.2)\n",
            "Requirement already satisfied: certifi>=2017.4.17 in /usr/local/lib/python3.8/dist-packages (from requests>=2.23.0->-r /content/drive/MyDrive/YoloV8/ultralytics/requirements.txt (line 11)) (2022.12.7)\n",
            "Requirement already satisfied: idna<3,>=2.5 in /usr/local/lib/python3.8/dist-packages (from requests>=2.23.0->-r /content/drive/MyDrive/YoloV8/ultralytics/requirements.txt (line 11)) (2.10)\n",
            "Requirement already satisfied: urllib3<1.27,>=1.21.1 in /usr/local/lib/python3.8/dist-packages (from requests>=2.23.0->-r /content/drive/MyDrive/YoloV8/ultralytics/requirements.txt (line 11)) (1.24.3)\n",
            "Requirement already satisfied: chardet<5,>=3.0.2 in /usr/local/lib/python3.8/dist-packages (from requests>=2.23.0->-r /content/drive/MyDrive/YoloV8/ultralytics/requirements.txt (line 11)) (4.0.0)\n",
            "Requirement already satisfied: typing-extensions in /usr/local/lib/python3.8/dist-packages (from torch>=1.7.0->-r /content/drive/MyDrive/YoloV8/ultralytics/requirements.txt (line 13)) (4.4.0)\n",
            "Requirement already satisfied: setuptools>=41.0.0 in /usr/local/lib/python3.8/dist-packages (from tensorboard>=2.4.1->-r /content/drive/MyDrive/YoloV8/ultralytics/requirements.txt (line 18)) (57.4.0)\n",
            "Requirement already satisfied: google-auth-oauthlib<0.5,>=0.4.1 in /usr/local/lib/python3.8/dist-packages (from tensorboard>=2.4.1->-r /content/drive/MyDrive/YoloV8/ultralytics/requirements.txt (line 18)) (0.4.6)\n",
            "Requirement already satisfied: tensorboard-data-server<0.7.0,>=0.6.0 in /usr/local/lib/python3.8/dist-packages (from tensorboard>=2.4.1->-r /content/drive/MyDrive/YoloV8/ultralytics/requirements.txt (line 18)) (0.6.1)\n",
            "Requirement already satisfied: google-auth<3,>=1.6.3 in /usr/local/lib/python3.8/dist-packages (from tensorboard>=2.4.1->-r /content/drive/MyDrive/YoloV8/ultralytics/requirements.txt (line 18)) (2.15.0)\n",
            "Requirement already satisfied: grpcio>=1.24.3 in /usr/local/lib/python3.8/dist-packages (from tensorboard>=2.4.1->-r /content/drive/MyDrive/YoloV8/ultralytics/requirements.txt (line 18)) (1.51.1)\n",
            "Requirement already satisfied: werkzeug>=1.0.1 in /usr/local/lib/python3.8/dist-packages (from tensorboard>=2.4.1->-r /content/drive/MyDrive/YoloV8/ultralytics/requirements.txt (line 18)) (1.0.1)\n",
            "Requirement already satisfied: wheel>=0.26 in /usr/local/lib/python3.8/dist-packages (from tensorboard>=2.4.1->-r /content/drive/MyDrive/YoloV8/ultralytics/requirements.txt (line 18)) (0.38.4)\n",
            "Requirement already satisfied: protobuf<3.20,>=3.9.2 in /usr/local/lib/python3.8/dist-packages (from tensorboard>=2.4.1->-r /content/drive/MyDrive/YoloV8/ultralytics/requirements.txt (line 18)) (3.19.6)\n",
            "Requirement already satisfied: absl-py>=0.4 in /usr/local/lib/python3.8/dist-packages (from tensorboard>=2.4.1->-r /content/drive/MyDrive/YoloV8/ultralytics/requirements.txt (line 18)) (1.3.0)\n",
            "Requirement already satisfied: tensorboard-plugin-wit>=1.6.0 in /usr/local/lib/python3.8/dist-packages (from tensorboard>=2.4.1->-r /content/drive/MyDrive/YoloV8/ultralytics/requirements.txt (line 18)) (1.8.1)\n",
            "Requirement already satisfied: markdown>=2.6.8 in /usr/local/lib/python3.8/dist-packages (from tensorboard>=2.4.1->-r /content/drive/MyDrive/YoloV8/ultralytics/requirements.txt (line 18)) (3.4.1)\n",
            "Requirement already satisfied: pytz>=2017.3 in /usr/local/lib/python3.8/dist-packages (from pandas>=1.1.4->-r /content/drive/MyDrive/YoloV8/ultralytics/requirements.txt (line 23)) (2022.7)\n",
            "Requirement already satisfied: pygments in /usr/local/lib/python3.8/dist-packages (from ipython->-r /content/drive/MyDrive/YoloV8/ultralytics/requirements.txt (line 38)) (2.6.1)\n",
            "Requirement already satisfied: decorator in /usr/local/lib/python3.8/dist-packages (from ipython->-r /content/drive/MyDrive/YoloV8/ultralytics/requirements.txt (line 38)) (4.4.2)\n",
            "Requirement already satisfied: backcall in /usr/local/lib/python3.8/dist-packages (from ipython->-r /content/drive/MyDrive/YoloV8/ultralytics/requirements.txt (line 38)) (0.2.0)\n",
            "Requirement already satisfied: traitlets>=4.2 in /usr/local/lib/python3.8/dist-packages (from ipython->-r /content/drive/MyDrive/YoloV8/ultralytics/requirements.txt (line 38)) (5.7.1)\n",
            "Requirement already satisfied: jedi>=0.10 in /usr/local/lib/python3.8/dist-packages (from ipython->-r /content/drive/MyDrive/YoloV8/ultralytics/requirements.txt (line 38)) (0.18.2)\n",
            "Requirement already satisfied: pickleshare in /usr/local/lib/python3.8/dist-packages (from ipython->-r /content/drive/MyDrive/YoloV8/ultralytics/requirements.txt (line 38)) (0.7.5)\n",
            "Requirement already satisfied: prompt-toolkit<2.1.0,>=2.0.0 in /usr/local/lib/python3.8/dist-packages (from ipython->-r /content/drive/MyDrive/YoloV8/ultralytics/requirements.txt (line 38)) (2.0.10)\n",
            "Requirement already satisfied: pexpect in /usr/local/lib/python3.8/dist-packages (from ipython->-r /content/drive/MyDrive/YoloV8/ultralytics/requirements.txt (line 38)) (4.8.0)\n",
            "Requirement already satisfied: gitdb<5,>=4.0.1 in /usr/local/lib/python3.8/dist-packages (from GitPython>=3.1.24->-r /content/drive/MyDrive/YoloV8/ultralytics/requirements.txt (line 46)) (4.0.10)\n",
            "Requirement already satisfied: smmap<6,>=3.0.1 in /usr/local/lib/python3.8/dist-packages (from gitdb<5,>=4.0.1->GitPython>=3.1.24->-r /content/drive/MyDrive/YoloV8/ultralytics/requirements.txt (line 46)) (5.0.0)\n",
            "Requirement already satisfied: rsa<5,>=3.1.4 in /usr/local/lib/python3.8/dist-packages (from google-auth<3,>=1.6.3->tensorboard>=2.4.1->-r /content/drive/MyDrive/YoloV8/ultralytics/requirements.txt (line 18)) (4.9)\n",
            "Requirement already satisfied: six>=1.9.0 in /usr/local/lib/python3.8/dist-packages (from google-auth<3,>=1.6.3->tensorboard>=2.4.1->-r /content/drive/MyDrive/YoloV8/ultralytics/requirements.txt (line 18)) (1.15.0)\n",
            "Requirement already satisfied: cachetools<6.0,>=2.0.0 in /usr/local/lib/python3.8/dist-packages (from google-auth<3,>=1.6.3->tensorboard>=2.4.1->-r /content/drive/MyDrive/YoloV8/ultralytics/requirements.txt (line 18)) (5.2.0)\n",
            "Requirement already satisfied: pyasn1-modules>=0.2.1 in /usr/local/lib/python3.8/dist-packages (from google-auth<3,>=1.6.3->tensorboard>=2.4.1->-r /content/drive/MyDrive/YoloV8/ultralytics/requirements.txt (line 18)) (0.2.8)\n",
            "Requirement already satisfied: requests-oauthlib>=0.7.0 in /usr/local/lib/python3.8/dist-packages (from google-auth-oauthlib<0.5,>=0.4.1->tensorboard>=2.4.1->-r /content/drive/MyDrive/YoloV8/ultralytics/requirements.txt (line 18)) (1.3.1)\n",
            "Requirement already satisfied: parso<0.9.0,>=0.8.0 in /usr/local/lib/python3.8/dist-packages (from jedi>=0.10->ipython->-r /content/drive/MyDrive/YoloV8/ultralytics/requirements.txt (line 38)) (0.8.3)\n",
            "Requirement already satisfied: importlib-metadata>=4.4 in /usr/local/lib/python3.8/dist-packages (from markdown>=2.6.8->tensorboard>=2.4.1->-r /content/drive/MyDrive/YoloV8/ultralytics/requirements.txt (line 18)) (6.0.0)\n",
            "Requirement already satisfied: wcwidth in /usr/local/lib/python3.8/dist-packages (from prompt-toolkit<2.1.0,>=2.0.0->ipython->-r /content/drive/MyDrive/YoloV8/ultralytics/requirements.txt (line 38)) (0.2.5)\n",
            "Requirement already satisfied: zipp>=3.1.0 in /usr/local/lib/python3.8/dist-packages (from importlib-resources->hydra-core>=1.2.0->-r /content/drive/MyDrive/YoloV8/ultralytics/requirements.txt (line 5)) (3.11.0)\n",
            "Requirement already satisfied: ptyprocess>=0.5 in /usr/local/lib/python3.8/dist-packages (from pexpect->ipython->-r /content/drive/MyDrive/YoloV8/ultralytics/requirements.txt (line 38)) (0.7.0)\n",
            "Requirement already satisfied: pyasn1<0.5.0,>=0.4.6 in /usr/local/lib/python3.8/dist-packages (from pyasn1-modules>=0.2.1->google-auth<3,>=1.6.3->tensorboard>=2.4.1->-r /content/drive/MyDrive/YoloV8/ultralytics/requirements.txt (line 18)) (0.4.8)\n",
            "Requirement already satisfied: oauthlib>=3.0.0 in /usr/local/lib/python3.8/dist-packages (from requests-oauthlib>=0.7.0->google-auth-oauthlib<0.5,>=0.4.1->tensorboard>=2.4.1->-r /content/drive/MyDrive/YoloV8/ultralytics/requirements.txt (line 18)) (3.2.2)\n"
          ]
        }
      ]
    },
    {
      "cell_type": "code",
      "source": [],
      "metadata": {
        "id": "-mLMV2uKPN9T"
      },
      "execution_count": null,
      "outputs": []
    },
    {
      "cell_type": "code",
      "source": [],
      "metadata": {
        "id": "kL9GkdAAPN8G"
      },
      "execution_count": null,
      "outputs": []
    },
    {
      "cell_type": "code",
      "source": [
        "import cv2\n",
        "import os\n",
        "import torch\n",
        "import random\n",
        "from random import choice\n",
        "import shutil\n",
        "\n",
        "\n",
        "\n",
        "from ultralytics import yolo\n",
        "from IPython.display import Image\n",
        "\n",
        "\n",
        "\n",
        "imgs =[]\n",
        "xmls =[]\n",
        "\n",
        "#setup dir names\n",
        "# trainPath = '/content/drive/MyDrive/YoloV8/FaceMask_data'\n",
        "# valPath = 'D:/yolov5_traffic_sign_detection/dataset/images/val'\n",
        "crsPath = '/content/drive/MyDrive/YoloV8/Data' #dir where images and annotations stored\n",
        "\n",
        "#setup ratio (val ratio = rest of the files in origin dir after splitting into train and test)\n",
        "train_ratio = 0.8\n",
        "val_ratio = 0.2\n",
        "\n",
        "\n",
        "#total count of imgs\n",
        "totalImgCount = len(os.listdir(crsPath))/2\n",
        "\n",
        "#soring files to corresponding arrays\n",
        "for (dirname, dirs, files) in os.walk(crsPath):\n",
        "    for filename in files:\n",
        "        if filename.endswith('.txt'):\n",
        "            xmls.append(filename)\n",
        "        else:\n",
        "            imgs.append(filename)\n",
        "\n",
        "\n",
        "#counting range for cycles\n",
        "countForTrain = int(len(imgs)*train_ratio)\n",
        "countForVal = int(len(imgs)*val_ratio)\n",
        "print(\"training images are : \",countForTrain)\n",
        "print(\"Validation images are : \",countForVal)\n",
        "\n"
      ],
      "metadata": {
        "id": "kCO4M1jRN0Ma",
        "colab": {
          "base_uri": "https://localhost:8080/"
        },
        "outputId": "eb172aaf-1b56-44e9-ed13-e8f81d7992fa"
      },
      "execution_count": null,
      "outputs": [
        {
          "output_type": "stream",
          "name": "stdout",
          "text": [
            "training images are :  178\n",
            "Validation images are :  44\n"
          ]
        }
      ]
    },
    {
      "cell_type": "code",
      "source": [
        "trainimagePath = '/content/drive/MyDrive/YoloV8/dataset/train/images'\n",
        "trainlabelPath = '/content/drive/MyDrive/YoloV8/dataset/train/labels'\n",
        "valimagePath = '/content/drive/MyDrive/YoloV8/dataset/val/images'\n",
        "vallabelPath = '/content/drive/MyDrive/YoloV8/dataset/val/labels'\n",
        "#cycle for train dir"
      ],
      "metadata": {
        "id": "jD8RgusjN0LN"
      },
      "execution_count": null,
      "outputs": []
    },
    {
      "cell_type": "code",
      "source": [
        "for x in range(countForTrain):\n",
        "\n",
        "    fileJpg = choice(imgs) # get name of random image from origin dir\n",
        "    fileXml = fileJpg[:-4] +'.txt' # get name of corresponding annotation file\n",
        "\n",
        "    #move both files into train dir\n",
        "    #shutil.move(os.path.join(crsPath, fileJpg), os.path.join(trainimagePath, fileJpg))\n",
        "    #shutil.move(os.path.join(crsPath, fileXml), os.path.join(trainlabelPath, fileXml))\n",
        "    shutil.copy(os.path.join(crsPath, fileJpg), os.path.join(trainimagePath, fileJpg))\n",
        "    shutil.copy(os.path.join(crsPath, fileXml), os.path.join(trainlabelPath, fileXml))"
      ],
      "metadata": {
        "id": "N8GdH67jN0HB"
      },
      "execution_count": null,
      "outputs": []
    },
    {
      "cell_type": "code",
      "source": [
        "\n",
        "#cycle for test dir   \n",
        "for x in range(countForVal):\n",
        "\n",
        "    fileJpg = choice(imgs) # get name of random image from origin dir\n",
        "    fileXml = fileJpg[:-4] +'.txt' # get name of corresponding annotation file\n",
        "\n",
        "    #move both files into train dir\n",
        "    #shutil.move(os.path.join(crsPath, fileJpg), os.path.join(valimagePath, fileJpg))\n",
        "    #shutil.move(os.path.join(crsPath, fileXml), os.path.join(vallabelPath, fileXml))\n",
        "    shutil.copy(os.path.join(crsPath, fileJpg), os.path.join(valimagePath, fileJpg))\n",
        "    shutil.copy(os.path.join(crsPath, fileXml), os.path.join(vallabelPath, fileXml))\n",
        "    "
      ],
      "metadata": {
        "id": "xPW5J9K1N0F6"
      },
      "execution_count": null,
      "outputs": []
    },
    {
      "cell_type": "code",
      "source": [
        "!yolo task=detect mode=train model=yolov8n.yaml data=/content/drive/MyDrive/YoloV8/dataset/custom.yaml epochs=20"
      ],
      "metadata": {
        "colab": {
          "base_uri": "https://localhost:8080/"
        },
        "id": "NttD9Wecrvll",
        "outputId": "ce4331b5-adaf-4d73-83de-eba29274f6a1"
      },
      "execution_count": null,
      "outputs": [
        {
          "output_type": "stream",
          "name": "stdout",
          "text": [
            "\n",
            "                   from  n    params  module                                       arguments                     \n",
            "  0                  -1  1       464  ultralytics.nn.modules.Conv                  [3, 16, 3, 2]                 \n",
            "  1                  -1  1      4672  ultralytics.nn.modules.Conv                  [16, 32, 3, 2]                \n",
            "  2                  -1  1      7360  ultralytics.nn.modules.C2f                   [32, 32, 1, True]             \n",
            "  3                  -1  1     18560  ultralytics.nn.modules.Conv                  [32, 64, 3, 2]                \n",
            "  4                  -1  2     49664  ultralytics.nn.modules.C2f                   [64, 64, 2, True]             \n",
            "  5                  -1  1     73984  ultralytics.nn.modules.Conv                  [64, 128, 3, 2]               \n",
            "  6                  -1  2    197632  ultralytics.nn.modules.C2f                   [128, 128, 2, True]           \n",
            "  7                  -1  1    295424  ultralytics.nn.modules.Conv                  [128, 256, 3, 2]              \n",
            "  8                  -1  1    460288  ultralytics.nn.modules.C2f                   [256, 256, 1, True]           \n",
            "  9                  -1  1    164608  ultralytics.nn.modules.SPPF                  [256, 256, 5]                 \n",
            " 10                  -1  1         0  torch.nn.modules.upsampling.Upsample         [None, 2, 'nearest']          \n",
            " 11             [-1, 6]  1         0  ultralytics.nn.modules.Concat                [1]                           \n",
            " 12                  -1  1    148224  ultralytics.nn.modules.C2f                   [384, 128, 1]                 \n",
            " 13                  -1  1         0  torch.nn.modules.upsampling.Upsample         [None, 2, 'nearest']          \n",
            " 14             [-1, 4]  1         0  ultralytics.nn.modules.Concat                [1]                           \n",
            " 15                  -1  1     37248  ultralytics.nn.modules.C2f                   [192, 64, 1]                  \n",
            " 16                  -1  1     36992  ultralytics.nn.modules.Conv                  [64, 64, 3, 2]                \n",
            " 17            [-1, 12]  1         0  ultralytics.nn.modules.Concat                [1]                           \n",
            " 18                  -1  1    123648  ultralytics.nn.modules.C2f                   [192, 128, 1]                 \n",
            " 19                  -1  1    147712  ultralytics.nn.modules.Conv                  [128, 128, 3, 2]              \n",
            " 20             [-1, 9]  1         0  ultralytics.nn.modules.Concat                [1]                           \n",
            " 21                  -1  1    493056  ultralytics.nn.modules.C2f                   [384, 256, 1]                 \n",
            " 22        [15, 18, 21]  1    897664  ultralytics.nn.modules.Detect                [80, [64, 128, 256]]          \n",
            "YOLOv8n summary: 225 layers, 3157200 parameters, 3157184 gradients, 8.9 GFLOPs\n",
            "\n",
            "\u001b[34m\u001b[1myolo/engine/trainer: \u001b[0mtask=detect, mode=train, model=yolov8n.yaml, data=/content/drive/MyDrive/YoloV8/dataset/custom.yaml, epochs=20, patience=50, batch=16, imgsz=640, save=True, cache=False, device=None, workers=8, project=None, name=None, exist_ok=False, pretrained=False, optimizer=SGD, verbose=False, seed=0, deterministic=True, single_cls=False, image_weights=False, rect=False, cos_lr=False, close_mosaic=10, resume=False, overlap_mask=True, mask_ratio=4, dropout=0.0, val=True, save_json=False, save_hybrid=False, conf=None, iou=0.7, max_det=300, half=False, dnn=False, plots=True, source=None, show=False, save_txt=False, save_conf=False, save_crop=False, hide_labels=False, hide_conf=False, vid_stride=1, line_thickness=3, visualize=False, augment=False, agnostic_nms=False, retina_masks=False, format=torchscript, keras=False, optimize=False, int8=False, dynamic=False, simplify=False, opset=17, workspace=4, nms=False, lr0=0.01, lrf=0.01, momentum=0.937, weight_decay=0.0005, warmup_epochs=3.0, warmup_momentum=0.8, warmup_bias_lr=0.1, box=7.5, cls=0.5, dfl=1.5, fl_gamma=0.0, label_smoothing=0.0, nbs=64, hsv_h=0.015, hsv_s=0.7, hsv_v=0.4, degrees=0.0, translate=0.1, scale=0.5, shear=0.0, perspective=0.0, flipud=0.0, fliplr=0.5, mosaic=1.0, mixup=0.0, copy_paste=0.0, hydra={'output_subdir': None, 'run': {'dir': '.'}}, v5loader=False, save_dir=runs/detect/train3\n",
            "Ultralytics YOLOv8.0.3 🚀 Python-3.8.16 torch-1.13.0+cu116 CUDA:0 (Tesla T4, 15110MiB)\n",
            "Overriding model.yaml nc=80 with nc=1\n",
            "\n",
            "                   from  n    params  module                                       arguments                     \n",
            "  0                  -1  1       464  ultralytics.nn.modules.Conv                  [3, 16, 3, 2]                 \n",
            "  1                  -1  1      4672  ultralytics.nn.modules.Conv                  [16, 32, 3, 2]                \n",
            "  2                  -1  1      7360  ultralytics.nn.modules.C2f                   [32, 32, 1, True]             \n",
            "  3                  -1  1     18560  ultralytics.nn.modules.Conv                  [32, 64, 3, 2]                \n",
            "  4                  -1  2     49664  ultralytics.nn.modules.C2f                   [64, 64, 2, True]             \n",
            "  5                  -1  1     73984  ultralytics.nn.modules.Conv                  [64, 128, 3, 2]               \n",
            "  6                  -1  2    197632  ultralytics.nn.modules.C2f                   [128, 128, 2, True]           \n",
            "  7                  -1  1    295424  ultralytics.nn.modules.Conv                  [128, 256, 3, 2]              \n",
            "  8                  -1  1    460288  ultralytics.nn.modules.C2f                   [256, 256, 1, True]           \n",
            "  9                  -1  1    164608  ultralytics.nn.modules.SPPF                  [256, 256, 5]                 \n",
            " 10                  -1  1         0  torch.nn.modules.upsampling.Upsample         [None, 2, 'nearest']          \n",
            " 11             [-1, 6]  1         0  ultralytics.nn.modules.Concat                [1]                           \n",
            " 12                  -1  1    148224  ultralytics.nn.modules.C2f                   [384, 128, 1]                 \n",
            " 13                  -1  1         0  torch.nn.modules.upsampling.Upsample         [None, 2, 'nearest']          \n",
            " 14             [-1, 4]  1         0  ultralytics.nn.modules.Concat                [1]                           \n",
            " 15                  -1  1     37248  ultralytics.nn.modules.C2f                   [192, 64, 1]                  \n",
            " 16                  -1  1     36992  ultralytics.nn.modules.Conv                  [64, 64, 3, 2]                \n",
            " 17            [-1, 12]  1         0  ultralytics.nn.modules.Concat                [1]                           \n",
            " 18                  -1  1    123648  ultralytics.nn.modules.C2f                   [192, 128, 1]                 \n",
            " 19                  -1  1    147712  ultralytics.nn.modules.Conv                  [128, 128, 3, 2]              \n",
            " 20             [-1, 9]  1         0  ultralytics.nn.modules.Concat                [1]                           \n",
            " 21                  -1  1    493056  ultralytics.nn.modules.C2f                   [384, 256, 1]                 \n",
            " 22        [15, 18, 21]  1    751507  ultralytics.nn.modules.Detect                [1, [64, 128, 256]]           \n",
            "YOLOv8n summary: 225 layers, 3011043 parameters, 3011027 gradients, 8.2 GFLOPs\n",
            "\n",
            "\u001b[34m\u001b[1moptimizer:\u001b[0m SGD(lr=0.01) with parameter groups 57 weight(decay=0.0), 64 weight(decay=0.0005), 63 bias\n",
            "\u001b[34m\u001b[1mtrain: \u001b[0mScanning /content/drive/MyDrive/YoloV8/dataset/train/labels.cache... 177 images, 15 backgrounds, 0 corrupt: 100% 177/177 [00:00<?, ?it/s]\n",
            "\u001b[34m\u001b[1malbumentations: \u001b[0mBlur(p=0.01, blur_limit=(3, 7)), MedianBlur(p=0.01, blur_limit=(3, 7)), ToGray(p=0.01), CLAHE(p=0.01, clip_limit=(1, 4.0), tile_grid_size=(8, 8))\n",
            "\u001b[34m\u001b[1mval: \u001b[0mScanning /content/drive/MyDrive/YoloV8/dataset/val/labels.cache... 77 images, 9 backgrounds, 0 corrupt: 100% 77/77 [00:00<?, ?it/s]\n",
            "Image sizes 640 train, 640 val\n",
            "Using 2 dataloader workers\n",
            "Logging results to \u001b[1mruns/detect/train3\u001b[0m\n",
            "Starting training for 20 epochs...\n",
            "\n",
            "      Epoch    GPU_mem   box_loss   cls_loss   dfl_loss  Instances       Size\n",
            "       1/20      2.48G      6.805       3272      4.374          1        640: 100% 12/12 [00:15<00:00,  1.25s/it]\n",
            "                 Class     Images  Instances      Box(P          R      mAP50  mAP50-95): 100% 3/3 [00:01<00:00,  1.60it/s]\n",
            "                   all         77         68          0          0          0          0\n",
            "\n",
            "      Epoch    GPU_mem   box_loss   cls_loss   dfl_loss  Instances       Size\n",
            "       2/20      2.48G      6.026        inf      3.873          0        640: 100% 12/12 [00:13<00:00,  1.11s/it]\n",
            "                 Class     Images  Instances      Box(P          R      mAP50  mAP50-95): 100% 3/3 [00:01<00:00,  1.71it/s]\n",
            "                   all         77         68          0          0          0          0\n",
            "\n",
            "      Epoch    GPU_mem   box_loss   cls_loss   dfl_loss  Instances       Size\n",
            "       3/20      2.48G      5.829        inf       3.81          1        640: 100% 12/12 [00:13<00:00,  1.08s/it]\n",
            "                 Class     Images  Instances      Box(P          R      mAP50  mAP50-95): 100% 3/3 [00:01<00:00,  1.82it/s]\n",
            "                   all         77         68          0          0          0          0\n",
            "\n",
            "      Epoch    GPU_mem   box_loss   cls_loss   dfl_loss  Instances       Size\n",
            "       4/20      2.48G       5.59      6.348      4.115          1        640: 100% 12/12 [00:12<00:00,  1.06s/it]\n",
            "                 Class     Images  Instances      Box(P          R      mAP50  mAP50-95): 100% 3/3 [00:01<00:00,  1.80it/s]\n",
            "                   all         77         68          0          0          0          0\n",
            "\n",
            "      Epoch    GPU_mem   box_loss   cls_loss   dfl_loss  Instances       Size\n",
            "       5/20      2.48G      4.707      4.294      3.692          1        640: 100% 12/12 [00:12<00:00,  1.08s/it]\n",
            "                 Class     Images  Instances      Box(P          R      mAP50  mAP50-95): 100% 3/3 [00:01<00:00,  1.79it/s]\n",
            "                   all         77         68          0          0          0          0\n",
            "\n",
            "      Epoch    GPU_mem   box_loss   cls_loss   dfl_loss  Instances       Size\n",
            "       6/20      2.48G      3.561      2.696      3.427          1        640: 100% 12/12 [00:13<00:00,  1.09s/it]\n",
            "                 Class     Images  Instances      Box(P          R      mAP50  mAP50-95): 100% 3/3 [00:01<00:00,  1.78it/s]\n",
            "                   all         77         68          0          0          0          0\n",
            "\n",
            "      Epoch    GPU_mem   box_loss   cls_loss   dfl_loss  Instances       Size\n",
            "       7/20      2.48G      2.939        inf      2.437          0        640: 100% 12/12 [00:12<00:00,  1.06s/it]\n",
            "                 Class     Images  Instances      Box(P          R      mAP50  mAP50-95): 100% 3/3 [00:01<00:00,  1.76it/s]\n",
            "                   all         77         68          0          0          0          0\n",
            "\n",
            "      Epoch    GPU_mem   box_loss   cls_loss   dfl_loss  Instances       Size\n",
            "       8/20      2.48G      3.244      2.178      2.237          1        640: 100% 12/12 [00:12<00:00,  1.07s/it]\n",
            "                 Class     Images  Instances      Box(P          R      mAP50  mAP50-95): 100% 3/3 [00:01<00:00,  1.83it/s]\n",
            "                   all         77         68          0          0          0          0\n",
            "\n",
            "      Epoch    GPU_mem   box_loss   cls_loss   dfl_loss  Instances       Size\n",
            "       9/20      2.48G      3.213       2.36       2.01          1        640: 100% 12/12 [00:12<00:00,  1.08s/it]\n",
            "                 Class     Images  Instances      Box(P          R      mAP50  mAP50-95): 100% 3/3 [00:01<00:00,  1.79it/s]\n",
            "                   all         77         68          0          0          0          0\n",
            "\n",
            "      Epoch    GPU_mem   box_loss   cls_loss   dfl_loss  Instances       Size\n",
            "      10/20      2.48G      2.692        inf      1.691          0        640: 100% 12/12 [00:12<00:00,  1.07s/it]\n",
            "                 Class     Images  Instances      Box(P          R      mAP50  mAP50-95): 100% 3/3 [00:01<00:00,  1.75it/s]\n",
            "                   all         77         68     0.0743      0.353      0.106     0.0361\n",
            "Closing dataloader mosaic\n",
            "\u001b[34m\u001b[1malbumentations: \u001b[0mBlur(p=0.01, blur_limit=(3, 7)), MedianBlur(p=0.01, blur_limit=(3, 7)), ToGray(p=0.01), CLAHE(p=0.01, clip_limit=(1, 4.0), tile_grid_size=(8, 8))\n",
            "\n",
            "      Epoch    GPU_mem   box_loss   cls_loss   dfl_loss  Instances       Size\n",
            "      11/20      2.48G      2.667      2.537      1.789          1        640: 100% 12/12 [00:07<00:00,  1.66it/s]\n",
            "                 Class     Images  Instances      Box(P          R      mAP50  mAP50-95): 100% 3/3 [00:01<00:00,  1.54it/s]\n",
            "                   all         77         68      0.498      0.221      0.334       0.12\n",
            "\n",
            "      Epoch    GPU_mem   box_loss   cls_loss   dfl_loss  Instances       Size\n",
            "      12/20      2.48G      2.364      1.692      1.646          1        640: 100% 12/12 [00:05<00:00,  2.06it/s]\n",
            "                 Class     Images  Instances      Box(P          R      mAP50  mAP50-95): 100% 3/3 [00:01<00:00,  1.57it/s]\n",
            "                   all         77         68      0.507      0.287      0.345      0.148\n",
            "\n",
            "      Epoch    GPU_mem   box_loss   cls_loss   dfl_loss  Instances       Size\n",
            "      13/20      2.48G      2.378      1.718      1.546          1        640: 100% 12/12 [00:05<00:00,  2.28it/s]\n",
            "                 Class     Images  Instances      Box(P          R      mAP50  mAP50-95): 100% 3/3 [00:03<00:00,  1.13s/it]\n",
            "                   all         77         68      0.683      0.647      0.722       0.26\n",
            "\n",
            "      Epoch    GPU_mem   box_loss   cls_loss   dfl_loss  Instances       Size\n",
            "      14/20      2.48G      2.221      1.397      1.483          1        640: 100% 12/12 [00:05<00:00,  2.14it/s]\n",
            "                 Class     Images  Instances      Box(P          R      mAP50  mAP50-95): 100% 3/3 [00:01<00:00,  1.53it/s]\n",
            "                   all         77         68      0.745      0.838      0.839      0.355\n",
            "\n",
            "      Epoch    GPU_mem   box_loss   cls_loss   dfl_loss  Instances       Size\n",
            "      15/20      2.48G      2.454      1.846      1.471          1        640: 100% 12/12 [00:05<00:00,  2.25it/s]\n",
            "                 Class     Images  Instances      Box(P          R      mAP50  mAP50-95): 100% 3/3 [00:01<00:00,  1.67it/s]\n",
            "                   all         77         68      0.656      0.925      0.859      0.403\n",
            "\n",
            "      Epoch    GPU_mem   box_loss   cls_loss   dfl_loss  Instances       Size\n",
            "      16/20      2.48G      1.982      1.316      1.269          1        640: 100% 12/12 [00:05<00:00,  2.22it/s]\n",
            "                 Class     Images  Instances      Box(P          R      mAP50  mAP50-95): 100% 3/3 [00:02<00:00,  1.49it/s]\n",
            "                   all         77         68      0.749      0.838      0.884      0.455\n",
            "\n",
            "      Epoch    GPU_mem   box_loss   cls_loss   dfl_loss  Instances       Size\n",
            "      17/20      2.48G      1.894      1.139      1.253          1        640: 100% 12/12 [00:05<00:00,  2.27it/s]\n",
            "                 Class     Images  Instances      Box(P          R      mAP50  mAP50-95): 100% 3/3 [00:01<00:00,  1.62it/s]\n",
            "                   all         77         68      0.829      0.941      0.951      0.538\n",
            "\n",
            "      Epoch    GPU_mem   box_loss   cls_loss   dfl_loss  Instances       Size\n",
            "      18/20      2.48G      1.611      1.123      1.273          1        640: 100% 12/12 [00:05<00:00,  2.27it/s]\n",
            "                 Class     Images  Instances      Box(P          R      mAP50  mAP50-95): 100% 3/3 [00:01<00:00,  1.61it/s]\n",
            "                   all         77         68      0.738      0.941      0.888      0.478\n",
            "\n",
            "      Epoch    GPU_mem   box_loss   cls_loss   dfl_loss  Instances       Size\n",
            "      19/20      2.48G      1.556      1.027      1.236          1        640: 100% 12/12 [00:05<00:00,  2.18it/s]\n",
            "                 Class     Images  Instances      Box(P          R      mAP50  mAP50-95): 100% 3/3 [00:01<00:00,  1.64it/s]\n",
            "                   all         77         68      0.829          1      0.967      0.536\n",
            "\n",
            "      Epoch    GPU_mem   box_loss   cls_loss   dfl_loss  Instances       Size\n",
            "      20/20      2.48G      1.559      1.049      1.239          1        640: 100% 12/12 [00:05<00:00,  2.29it/s]\n",
            "                 Class     Images  Instances      Box(P          R      mAP50  mAP50-95): 100% 3/3 [00:02<00:00,  1.04it/s]\n",
            "                   all         77         68      0.954      0.922      0.985       0.63\n",
            "\n",
            "20 epochs completed in 0.074 hours.\n",
            "Optimizer stripped from runs/detect/train3/weights/last.pt, 6.2MB\n",
            "Optimizer stripped from runs/detect/train3/weights/best.pt, 6.2MB\n",
            "\n",
            "Validating runs/detect/train3/weights/best.pt...\n",
            "Ultralytics YOLOv8.0.3 🚀 Python-3.8.16 torch-1.13.0+cu116 CUDA:0 (Tesla T4, 15110MiB)\n",
            "Fusing layers... \n",
            "YOLOv8n summary: 168 layers, 3005843 parameters, 0 gradients, 8.1 GFLOPs\n",
            "                 Class     Images  Instances      Box(P          R      mAP50  mAP50-95): 100% 3/3 [00:02<00:00,  1.03it/s]\n",
            "                   all         77         68      0.904      0.974      0.986      0.634\n",
            "Speed: 0.3ms pre-process, 5.1ms inference, 0.0ms loss, 1.9ms post-process per image\n",
            "Saving runs/detect/train3/predictions.json...\n",
            "Results saved to \u001b[1mruns/detect/train3\u001b[0m\n"
          ]
        }
      ]
    },
    {
      "cell_type": "code",
      "source": [
        "!yolo task=detect mode=predict model=/content/drive/MyDrive/YoloV8/runs/detect/train3/weights/best.pt source=\"/content/drive/MyDrive/YoloV8/scorpio.mp4\""
      ],
      "metadata": {
        "id": "ewrelekdN0Bn",
        "colab": {
          "base_uri": "https://localhost:8080/"
        },
        "outputId": "77b00641-38ce-4217-a5c4-e62df79ea52a"
      },
      "execution_count": null,
      "outputs": [
        {
          "output_type": "stream",
          "name": "stdout",
          "text": [
            "Ultralytics YOLOv8.0.3 🚀 Python-3.8.16 torch-1.13.0+cu116 CUDA:0 (Tesla T4, 15110MiB)\n",
            "Fusing layers... \n",
            "YOLOv8n summary: 168 layers, 3005843 parameters, 0 gradients, 8.1 GFLOPs\n",
            "video 1/1 (1/223) /content/drive/MyDrive/YoloV8/scorpio.mp4: 640x384 2 QRCodes, 14.6ms\n",
            "video 1/1 (2/223) /content/drive/MyDrive/YoloV8/scorpio.mp4: 640x384 3 QRCodes, 9.4ms\n",
            "video 1/1 (3/223) /content/drive/MyDrive/YoloV8/scorpio.mp4: 640x384 2 QRCodes, 9.7ms\n",
            "video 1/1 (4/223) /content/drive/MyDrive/YoloV8/scorpio.mp4: 640x384 2 QRCodes, 9.9ms\n",
            "video 1/1 (5/223) /content/drive/MyDrive/YoloV8/scorpio.mp4: 640x384 2 QRCodes, 9.4ms\n",
            "video 1/1 (6/223) /content/drive/MyDrive/YoloV8/scorpio.mp4: 640x384 1 QRCode, 9.3ms\n",
            "video 1/1 (7/223) /content/drive/MyDrive/YoloV8/scorpio.mp4: 640x384 1 QRCode, 10.3ms\n",
            "video 1/1 (8/223) /content/drive/MyDrive/YoloV8/scorpio.mp4: 640x384 1 QRCode, 9.4ms\n",
            "video 1/1 (9/223) /content/drive/MyDrive/YoloV8/scorpio.mp4: 640x384 3 QRCodes, 9.4ms\n",
            "video 1/1 (10/223) /content/drive/MyDrive/YoloV8/scorpio.mp4: 640x384 3 QRCodes, 9.3ms\n",
            "video 1/1 (11/223) /content/drive/MyDrive/YoloV8/scorpio.mp4: 640x384 3 QRCodes, 9.5ms\n",
            "video 1/1 (12/223) /content/drive/MyDrive/YoloV8/scorpio.mp4: 640x384 3 QRCodes, 9.5ms\n",
            "video 1/1 (13/223) /content/drive/MyDrive/YoloV8/scorpio.mp4: 640x384 3 QRCodes, 9.8ms\n",
            "video 1/1 (14/223) /content/drive/MyDrive/YoloV8/scorpio.mp4: 640x384 3 QRCodes, 12.8ms\n",
            "video 1/1 (15/223) /content/drive/MyDrive/YoloV8/scorpio.mp4: 640x384 3 QRCodes, 9.7ms\n",
            "video 1/1 (16/223) /content/drive/MyDrive/YoloV8/scorpio.mp4: 640x384 3 QRCodes, 10.6ms\n",
            "video 1/1 (17/223) /content/drive/MyDrive/YoloV8/scorpio.mp4: 640x384 3 QRCodes, 9.5ms\n",
            "video 1/1 (18/223) /content/drive/MyDrive/YoloV8/scorpio.mp4: 640x384 2 QRCodes, 9.9ms\n",
            "video 1/1 (19/223) /content/drive/MyDrive/YoloV8/scorpio.mp4: 640x384 2 QRCodes, 9.6ms\n",
            "video 1/1 (20/223) /content/drive/MyDrive/YoloV8/scorpio.mp4: 640x384 2 QRCodes, 9.9ms\n",
            "video 1/1 (21/223) /content/drive/MyDrive/YoloV8/scorpio.mp4: 640x384 2 QRCodes, 9.7ms\n",
            "video 1/1 (22/223) /content/drive/MyDrive/YoloV8/scorpio.mp4: 640x384 2 QRCodes, 9.3ms\n",
            "video 1/1 (23/223) /content/drive/MyDrive/YoloV8/scorpio.mp4: 640x384 2 QRCodes, 10.9ms\n",
            "video 1/1 (24/223) /content/drive/MyDrive/YoloV8/scorpio.mp4: 640x384 2 QRCodes, 9.7ms\n",
            "video 1/1 (25/223) /content/drive/MyDrive/YoloV8/scorpio.mp4: 640x384 2 QRCodes, 11.5ms\n",
            "video 1/1 (26/223) /content/drive/MyDrive/YoloV8/scorpio.mp4: 640x384 2 QRCodes, 9.6ms\n",
            "video 1/1 (27/223) /content/drive/MyDrive/YoloV8/scorpio.mp4: 640x384 1 QRCode, 10.4ms\n",
            "video 1/1 (28/223) /content/drive/MyDrive/YoloV8/scorpio.mp4: 640x384 1 QRCode, 9.8ms\n",
            "video 1/1 (29/223) /content/drive/MyDrive/YoloV8/scorpio.mp4: 640x384 1 QRCode, 9.5ms\n",
            "video 1/1 (30/223) /content/drive/MyDrive/YoloV8/scorpio.mp4: 640x384 1 QRCode, 11.6ms\n",
            "video 1/1 (31/223) /content/drive/MyDrive/YoloV8/scorpio.mp4: 640x384 1 QRCode, 9.4ms\n",
            "video 1/1 (32/223) /content/drive/MyDrive/YoloV8/scorpio.mp4: 640x384 1 QRCode, 9.7ms\n",
            "video 1/1 (33/223) /content/drive/MyDrive/YoloV8/scorpio.mp4: 640x384 1 QRCode, 9.5ms\n",
            "video 1/1 (34/223) /content/drive/MyDrive/YoloV8/scorpio.mp4: 640x384 1 QRCode, 9.5ms\n",
            "video 1/1 (35/223) /content/drive/MyDrive/YoloV8/scorpio.mp4: 640x384 1 QRCode, 9.4ms\n",
            "video 1/1 (36/223) /content/drive/MyDrive/YoloV8/scorpio.mp4: 640x384 1 QRCode, 9.4ms\n",
            "video 1/1 (37/223) /content/drive/MyDrive/YoloV8/scorpio.mp4: 640x384 1 QRCode, 9.7ms\n",
            "video 1/1 (38/223) /content/drive/MyDrive/YoloV8/scorpio.mp4: 640x384 1 QRCode, 10.0ms\n",
            "video 1/1 (39/223) /content/drive/MyDrive/YoloV8/scorpio.mp4: 640x384 1 QRCode, 10.0ms\n",
            "video 1/1 (40/223) /content/drive/MyDrive/YoloV8/scorpio.mp4: 640x384 1 QRCode, 9.6ms\n",
            "video 1/1 (41/223) /content/drive/MyDrive/YoloV8/scorpio.mp4: 640x384 1 QRCode, 9.7ms\n",
            "video 1/1 (42/223) /content/drive/MyDrive/YoloV8/scorpio.mp4: 640x384 1 QRCode, 9.4ms\n",
            "video 1/1 (43/223) /content/drive/MyDrive/YoloV8/scorpio.mp4: 640x384 1 QRCode, 9.4ms\n",
            "video 1/1 (44/223) /content/drive/MyDrive/YoloV8/scorpio.mp4: 640x384 1 QRCode, 11.1ms\n",
            "video 1/1 (45/223) /content/drive/MyDrive/YoloV8/scorpio.mp4: 640x384 1 QRCode, 9.2ms\n",
            "video 1/1 (46/223) /content/drive/MyDrive/YoloV8/scorpio.mp4: 640x384 1 QRCode, 10.1ms\n",
            "video 1/1 (47/223) /content/drive/MyDrive/YoloV8/scorpio.mp4: 640x384 1 QRCode, 9.4ms\n",
            "video 1/1 (48/223) /content/drive/MyDrive/YoloV8/scorpio.mp4: 640x384 1 QRCode, 9.0ms\n",
            "video 1/1 (49/223) /content/drive/MyDrive/YoloV8/scorpio.mp4: 640x384 1 QRCode, 8.9ms\n",
            "video 1/1 (50/223) /content/drive/MyDrive/YoloV8/scorpio.mp4: 640x384 1 QRCode, 9.0ms\n",
            "video 1/1 (51/223) /content/drive/MyDrive/YoloV8/scorpio.mp4: 640x384 1 QRCode, 11.6ms\n",
            "video 1/1 (52/223) /content/drive/MyDrive/YoloV8/scorpio.mp4: 640x384 1 QRCode, 9.0ms\n",
            "video 1/1 (53/223) /content/drive/MyDrive/YoloV8/scorpio.mp4: 640x384 1 QRCode, 9.1ms\n",
            "video 1/1 (54/223) /content/drive/MyDrive/YoloV8/scorpio.mp4: 640x384 1 QRCode, 9.4ms\n",
            "video 1/1 (55/223) /content/drive/MyDrive/YoloV8/scorpio.mp4: 640x384 1 QRCode, 9.5ms\n",
            "video 1/1 (56/223) /content/drive/MyDrive/YoloV8/scorpio.mp4: 640x384 1 QRCode, 10.0ms\n",
            "video 1/1 (57/223) /content/drive/MyDrive/YoloV8/scorpio.mp4: 640x384 1 QRCode, 9.4ms\n",
            "video 1/1 (58/223) /content/drive/MyDrive/YoloV8/scorpio.mp4: 640x384 1 QRCode, 10.8ms\n",
            "video 1/1 (59/223) /content/drive/MyDrive/YoloV8/scorpio.mp4: 640x384 1 QRCode, 10.6ms\n",
            "video 1/1 (60/223) /content/drive/MyDrive/YoloV8/scorpio.mp4: 640x384 1 QRCode, 10.7ms\n",
            "video 1/1 (61/223) /content/drive/MyDrive/YoloV8/scorpio.mp4: 640x384 1 QRCode, 9.7ms\n",
            "video 1/1 (62/223) /content/drive/MyDrive/YoloV8/scorpio.mp4: 640x384 1 QRCode, 9.5ms\n",
            "video 1/1 (63/223) /content/drive/MyDrive/YoloV8/scorpio.mp4: 640x384 1 QRCode, 9.4ms\n",
            "video 1/1 (64/223) /content/drive/MyDrive/YoloV8/scorpio.mp4: 640x384 1 QRCode, 9.6ms\n",
            "video 1/1 (65/223) /content/drive/MyDrive/YoloV8/scorpio.mp4: 640x384 1 QRCode, 9.7ms\n",
            "video 1/1 (66/223) /content/drive/MyDrive/YoloV8/scorpio.mp4: 640x384 2 QRCodes, 9.2ms\n",
            "video 1/1 (67/223) /content/drive/MyDrive/YoloV8/scorpio.mp4: 640x384 2 QRCodes, 9.4ms\n",
            "video 1/1 (68/223) /content/drive/MyDrive/YoloV8/scorpio.mp4: 640x384 2 QRCodes, 9.2ms\n",
            "video 1/1 (69/223) /content/drive/MyDrive/YoloV8/scorpio.mp4: 640x384 2 QRCodes, 11.9ms\n",
            "video 1/1 (70/223) /content/drive/MyDrive/YoloV8/scorpio.mp4: 640x384 3 QRCodes, 9.9ms\n",
            "video 1/1 (71/223) /content/drive/MyDrive/YoloV8/scorpio.mp4: 640x384 3 QRCodes, 9.5ms\n",
            "video 1/1 (72/223) /content/drive/MyDrive/YoloV8/scorpio.mp4: 640x384 2 QRCodes, 10.4ms\n",
            "video 1/1 (73/223) /content/drive/MyDrive/YoloV8/scorpio.mp4: 640x384 2 QRCodes, 9.7ms\n",
            "video 1/1 (74/223) /content/drive/MyDrive/YoloV8/scorpio.mp4: 640x384 2 QRCodes, 9.6ms\n",
            "video 1/1 (75/223) /content/drive/MyDrive/YoloV8/scorpio.mp4: 640x384 2 QRCodes, 9.1ms\n",
            "video 1/1 (76/223) /content/drive/MyDrive/YoloV8/scorpio.mp4: 640x384 1 QRCode, 9.2ms\n",
            "video 1/1 (77/223) /content/drive/MyDrive/YoloV8/scorpio.mp4: 640x384 1 QRCode, 9.1ms\n",
            "video 1/1 (78/223) /content/drive/MyDrive/YoloV8/scorpio.mp4: 640x384 1 QRCode, 9.2ms\n",
            "video 1/1 (79/223) /content/drive/MyDrive/YoloV8/scorpio.mp4: 640x384 1 QRCode, 9.5ms\n",
            "video 1/1 (80/223) /content/drive/MyDrive/YoloV8/scorpio.mp4: 640x384 1 QRCode, 9.5ms\n",
            "video 1/1 (81/223) /content/drive/MyDrive/YoloV8/scorpio.mp4: 640x384 1 QRCode, 9.5ms\n",
            "video 1/1 (82/223) /content/drive/MyDrive/YoloV8/scorpio.mp4: 640x384 1 QRCode, 9.6ms\n",
            "video 1/1 (83/223) /content/drive/MyDrive/YoloV8/scorpio.mp4: 640x384 1 QRCode, 9.5ms\n",
            "video 1/1 (84/223) /content/drive/MyDrive/YoloV8/scorpio.mp4: 640x384 1 QRCode, 9.6ms\n",
            "video 1/1 (85/223) /content/drive/MyDrive/YoloV8/scorpio.mp4: 640x384 1 QRCode, 9.7ms\n",
            "video 1/1 (86/223) /content/drive/MyDrive/YoloV8/scorpio.mp4: 640x384 1 QRCode, 9.7ms\n",
            "video 1/1 (87/223) /content/drive/MyDrive/YoloV8/scorpio.mp4: 640x384 1 QRCode, 9.2ms\n",
            "video 1/1 (88/223) /content/drive/MyDrive/YoloV8/scorpio.mp4: 640x384 1 QRCode, 12.4ms\n",
            "video 1/1 (89/223) /content/drive/MyDrive/YoloV8/scorpio.mp4: 640x384 1 QRCode, 9.7ms\n",
            "video 1/1 (90/223) /content/drive/MyDrive/YoloV8/scorpio.mp4: 640x384 2 QRCodes, 9.8ms\n",
            "video 1/1 (91/223) /content/drive/MyDrive/YoloV8/scorpio.mp4: 640x384 2 QRCodes, 9.4ms\n",
            "video 1/1 (92/223) /content/drive/MyDrive/YoloV8/scorpio.mp4: 640x384 3 QRCodes, 13.2ms\n",
            "video 1/1 (93/223) /content/drive/MyDrive/YoloV8/scorpio.mp4: 640x384 3 QRCodes, 9.2ms\n",
            "video 1/1 (94/223) /content/drive/MyDrive/YoloV8/scorpio.mp4: 640x384 3 QRCodes, 12.5ms\n",
            "video 1/1 (95/223) /content/drive/MyDrive/YoloV8/scorpio.mp4: 640x384 2 QRCodes, 9.4ms\n",
            "video 1/1 (96/223) /content/drive/MyDrive/YoloV8/scorpio.mp4: 640x384 2 QRCodes, 9.2ms\n",
            "video 1/1 (97/223) /content/drive/MyDrive/YoloV8/scorpio.mp4: 640x384 2 QRCodes, 10.0ms\n",
            "video 1/1 (98/223) /content/drive/MyDrive/YoloV8/scorpio.mp4: 640x384 2 QRCodes, 9.2ms\n",
            "video 1/1 (99/223) /content/drive/MyDrive/YoloV8/scorpio.mp4: 640x384 2 QRCodes, 9.0ms\n",
            "video 1/1 (100/223) /content/drive/MyDrive/YoloV8/scorpio.mp4: 640x384 2 QRCodes, 8.9ms\n",
            "video 1/1 (101/223) /content/drive/MyDrive/YoloV8/scorpio.mp4: 640x384 1 QRCode, 9.9ms\n",
            "video 1/1 (102/223) /content/drive/MyDrive/YoloV8/scorpio.mp4: 640x384 2 QRCodes, 9.8ms\n",
            "video 1/1 (103/223) /content/drive/MyDrive/YoloV8/scorpio.mp4: 640x384 1 QRCode, 10.2ms\n",
            "video 1/1 (104/223) /content/drive/MyDrive/YoloV8/scorpio.mp4: 640x384 1 QRCode, 9.4ms\n",
            "video 1/1 (105/223) /content/drive/MyDrive/YoloV8/scorpio.mp4: 640x384 1 QRCode, 9.3ms\n",
            "video 1/1 (106/223) /content/drive/MyDrive/YoloV8/scorpio.mp4: 640x384 1 QRCode, 10.0ms\n",
            "video 1/1 (107/223) /content/drive/MyDrive/YoloV8/scorpio.mp4: 640x384 1 QRCode, 9.5ms\n",
            "video 1/1 (108/223) /content/drive/MyDrive/YoloV8/scorpio.mp4: 640x384 1 QRCode, 11.2ms\n",
            "video 1/1 (109/223) /content/drive/MyDrive/YoloV8/scorpio.mp4: 640x384 1 QRCode, 9.9ms\n",
            "video 1/1 (110/223) /content/drive/MyDrive/YoloV8/scorpio.mp4: 640x384 1 QRCode, 9.3ms\n",
            "video 1/1 (111/223) /content/drive/MyDrive/YoloV8/scorpio.mp4: 640x384 1 QRCode, 9.1ms\n",
            "video 1/1 (112/223) /content/drive/MyDrive/YoloV8/scorpio.mp4: 640x384 1 QRCode, 9.0ms\n",
            "video 1/1 (113/223) /content/drive/MyDrive/YoloV8/scorpio.mp4: 640x384 1 QRCode, 9.8ms\n",
            "video 1/1 (114/223) /content/drive/MyDrive/YoloV8/scorpio.mp4: 640x384 1 QRCode, 9.7ms\n",
            "video 1/1 (115/223) /content/drive/MyDrive/YoloV8/scorpio.mp4: 640x384 1 QRCode, 9.6ms\n",
            "video 1/1 (116/223) /content/drive/MyDrive/YoloV8/scorpio.mp4: 640x384 1 QRCode, 9.6ms\n",
            "video 1/1 (117/223) /content/drive/MyDrive/YoloV8/scorpio.mp4: 640x384 1 QRCode, 9.2ms\n",
            "video 1/1 (118/223) /content/drive/MyDrive/YoloV8/scorpio.mp4: 640x384 2 QRCodes, 9.9ms\n",
            "video 1/1 (119/223) /content/drive/MyDrive/YoloV8/scorpio.mp4: 640x384 1 QRCode, 9.5ms\n",
            "video 1/1 (120/223) /content/drive/MyDrive/YoloV8/scorpio.mp4: 640x384 2 QRCodes, 9.6ms\n",
            "video 1/1 (121/223) /content/drive/MyDrive/YoloV8/scorpio.mp4: 640x384 1 QRCode, 11.9ms\n",
            "video 1/1 (122/223) /content/drive/MyDrive/YoloV8/scorpio.mp4: 640x384 1 QRCode, 10.0ms\n",
            "video 1/1 (123/223) /content/drive/MyDrive/YoloV8/scorpio.mp4: 640x384 1 QRCode, 11.8ms\n",
            "video 1/1 (124/223) /content/drive/MyDrive/YoloV8/scorpio.mp4: 640x384 1 QRCode, 9.3ms\n",
            "video 1/1 (125/223) /content/drive/MyDrive/YoloV8/scorpio.mp4: 640x384 1 QRCode, 9.2ms\n",
            "video 1/1 (126/223) /content/drive/MyDrive/YoloV8/scorpio.mp4: 640x384 1 QRCode, 9.2ms\n",
            "video 1/1 (127/223) /content/drive/MyDrive/YoloV8/scorpio.mp4: 640x384 1 QRCode, 9.1ms\n",
            "video 1/1 (128/223) /content/drive/MyDrive/YoloV8/scorpio.mp4: 640x384 1 QRCode, 9.0ms\n",
            "video 1/1 (129/223) /content/drive/MyDrive/YoloV8/scorpio.mp4: 640x384 1 QRCode, 9.1ms\n",
            "video 1/1 (130/223) /content/drive/MyDrive/YoloV8/scorpio.mp4: 640x384 1 QRCode, 9.5ms\n",
            "video 1/1 (131/223) /content/drive/MyDrive/YoloV8/scorpio.mp4: 640x384 1 QRCode, 9.2ms\n",
            "video 1/1 (132/223) /content/drive/MyDrive/YoloV8/scorpio.mp4: 640x384 1 QRCode, 9.2ms\n",
            "video 1/1 (133/223) /content/drive/MyDrive/YoloV8/scorpio.mp4: 640x384 1 QRCode, 9.2ms\n",
            "video 1/1 (134/223) /content/drive/MyDrive/YoloV8/scorpio.mp4: 640x384 1 QRCode, 12.9ms\n",
            "video 1/1 (135/223) /content/drive/MyDrive/YoloV8/scorpio.mp4: 640x384 1 QRCode, 9.4ms\n",
            "video 1/1 (136/223) /content/drive/MyDrive/YoloV8/scorpio.mp4: 640x384 2 QRCodes, 9.1ms\n",
            "video 1/1 (137/223) /content/drive/MyDrive/YoloV8/scorpio.mp4: 640x384 1 QRCode, 11.5ms\n",
            "video 1/1 (138/223) /content/drive/MyDrive/YoloV8/scorpio.mp4: 640x384 1 QRCode, 10.1ms\n",
            "video 1/1 (139/223) /content/drive/MyDrive/YoloV8/scorpio.mp4: 640x384 1 QRCode, 9.8ms\n",
            "video 1/1 (140/223) /content/drive/MyDrive/YoloV8/scorpio.mp4: 640x384 1 QRCode, 12.2ms\n",
            "video 1/1 (141/223) /content/drive/MyDrive/YoloV8/scorpio.mp4: 640x384 1 QRCode, 9.2ms\n",
            "video 1/1 (142/223) /content/drive/MyDrive/YoloV8/scorpio.mp4: 640x384 1 QRCode, 9.2ms\n",
            "video 1/1 (143/223) /content/drive/MyDrive/YoloV8/scorpio.mp4: 640x384 1 QRCode, 9.5ms\n",
            "video 1/1 (144/223) /content/drive/MyDrive/YoloV8/scorpio.mp4: 640x384 1 QRCode, 9.0ms\n",
            "video 1/1 (145/223) /content/drive/MyDrive/YoloV8/scorpio.mp4: 640x384 1 QRCode, 9.8ms\n",
            "video 1/1 (146/223) /content/drive/MyDrive/YoloV8/scorpio.mp4: 640x384 1 QRCode, 9.4ms\n",
            "video 1/1 (147/223) /content/drive/MyDrive/YoloV8/scorpio.mp4: 640x384 1 QRCode, 9.5ms\n",
            "video 1/1 (148/223) /content/drive/MyDrive/YoloV8/scorpio.mp4: 640x384 1 QRCode, 9.2ms\n",
            "video 1/1 (149/223) /content/drive/MyDrive/YoloV8/scorpio.mp4: 640x384 1 QRCode, 10.1ms\n",
            "video 1/1 (150/223) /content/drive/MyDrive/YoloV8/scorpio.mp4: 640x384 1 QRCode, 9.9ms\n",
            "video 1/1 (151/223) /content/drive/MyDrive/YoloV8/scorpio.mp4: 640x384 1 QRCode, 9.3ms\n",
            "video 1/1 (152/223) /content/drive/MyDrive/YoloV8/scorpio.mp4: 640x384 1 QRCode, 12.4ms\n",
            "video 1/1 (153/223) /content/drive/MyDrive/YoloV8/scorpio.mp4: 640x384 1 QRCode, 9.7ms\n",
            "video 1/1 (154/223) /content/drive/MyDrive/YoloV8/scorpio.mp4: 640x384 1 QRCode, 9.7ms\n",
            "video 1/1 (155/223) /content/drive/MyDrive/YoloV8/scorpio.mp4: 640x384 1 QRCode, 9.5ms\n",
            "video 1/1 (156/223) /content/drive/MyDrive/YoloV8/scorpio.mp4: 640x384 1 QRCode, 9.3ms\n",
            "video 1/1 (157/223) /content/drive/MyDrive/YoloV8/scorpio.mp4: 640x384 1 QRCode, 12.0ms\n",
            "video 1/1 (158/223) /content/drive/MyDrive/YoloV8/scorpio.mp4: 640x384 1 QRCode, 9.8ms\n",
            "video 1/1 (159/223) /content/drive/MyDrive/YoloV8/scorpio.mp4: 640x384 1 QRCode, 9.6ms\n",
            "video 1/1 (160/223) /content/drive/MyDrive/YoloV8/scorpio.mp4: 640x384 1 QRCode, 9.7ms\n",
            "video 1/1 (161/223) /content/drive/MyDrive/YoloV8/scorpio.mp4: 640x384 1 QRCode, 9.7ms\n",
            "video 1/1 (162/223) /content/drive/MyDrive/YoloV8/scorpio.mp4: 640x384 1 QRCode, 9.8ms\n",
            "video 1/1 (163/223) /content/drive/MyDrive/YoloV8/scorpio.mp4: 640x384 1 QRCode, 9.2ms\n",
            "video 1/1 (164/223) /content/drive/MyDrive/YoloV8/scorpio.mp4: 640x384 1 QRCode, 9.4ms\n",
            "video 1/1 (165/223) /content/drive/MyDrive/YoloV8/scorpio.mp4: 640x384 1 QRCode, 9.1ms\n",
            "video 1/1 (166/223) /content/drive/MyDrive/YoloV8/scorpio.mp4: 640x384 1 QRCode, 9.0ms\n",
            "video 1/1 (167/223) /content/drive/MyDrive/YoloV8/scorpio.mp4: 640x384 1 QRCode, 11.3ms\n",
            "video 1/1 (168/223) /content/drive/MyDrive/YoloV8/scorpio.mp4: 640x384 1 QRCode, 9.9ms\n",
            "video 1/1 (169/223) /content/drive/MyDrive/YoloV8/scorpio.mp4: 640x384 1 QRCode, 9.8ms\n",
            "video 1/1 (170/223) /content/drive/MyDrive/YoloV8/scorpio.mp4: 640x384 1 QRCode, 9.3ms\n",
            "video 1/1 (171/223) /content/drive/MyDrive/YoloV8/scorpio.mp4: 640x384 1 QRCode, 17.8ms\n",
            "video 1/1 (172/223) /content/drive/MyDrive/YoloV8/scorpio.mp4: 640x384 1 QRCode, 9.4ms\n",
            "video 1/1 (173/223) /content/drive/MyDrive/YoloV8/scorpio.mp4: 640x384 1 QRCode, 9.3ms\n",
            "video 1/1 (174/223) /content/drive/MyDrive/YoloV8/scorpio.mp4: 640x384 1 QRCode, 12.0ms\n",
            "video 1/1 (175/223) /content/drive/MyDrive/YoloV8/scorpio.mp4: 640x384 1 QRCode, 9.5ms\n",
            "video 1/1 (176/223) /content/drive/MyDrive/YoloV8/scorpio.mp4: 640x384 2 QRCodes, 11.9ms\n",
            "video 1/1 (177/223) /content/drive/MyDrive/YoloV8/scorpio.mp4: 640x384 1 QRCode, 9.2ms\n",
            "video 1/1 (178/223) /content/drive/MyDrive/YoloV8/scorpio.mp4: 640x384 1 QRCode, 9.2ms\n",
            "video 1/1 (179/223) /content/drive/MyDrive/YoloV8/scorpio.mp4: 640x384 1 QRCode, 11.2ms\n",
            "video 1/1 (180/223) /content/drive/MyDrive/YoloV8/scorpio.mp4: 640x384 1 QRCode, 9.4ms\n",
            "video 1/1 (181/223) /content/drive/MyDrive/YoloV8/scorpio.mp4: 640x384 2 QRCodes, 9.2ms\n",
            "video 1/1 (182/223) /content/drive/MyDrive/YoloV8/scorpio.mp4: 640x384 1 QRCode, 9.4ms\n",
            "video 1/1 (183/223) /content/drive/MyDrive/YoloV8/scorpio.mp4: 640x384 1 QRCode, 9.3ms\n",
            "video 1/1 (184/223) /content/drive/MyDrive/YoloV8/scorpio.mp4: 640x384 2 QRCodes, 9.4ms\n",
            "video 1/1 (185/223) /content/drive/MyDrive/YoloV8/scorpio.mp4: 640x384 1 QRCode, 9.2ms\n",
            "video 1/1 (186/223) /content/drive/MyDrive/YoloV8/scorpio.mp4: 640x384 2 QRCodes, 9.6ms\n",
            "video 1/1 (187/223) /content/drive/MyDrive/YoloV8/scorpio.mp4: 640x384 2 QRCodes, 9.8ms\n",
            "video 1/1 (188/223) /content/drive/MyDrive/YoloV8/scorpio.mp4: 640x384 1 QRCode, 10.3ms\n",
            "video 1/1 (189/223) /content/drive/MyDrive/YoloV8/scorpio.mp4: 640x384 1 QRCode, 9.6ms\n",
            "video 1/1 (190/223) /content/drive/MyDrive/YoloV8/scorpio.mp4: 640x384 1 QRCode, 9.6ms\n",
            "video 1/1 (191/223) /content/drive/MyDrive/YoloV8/scorpio.mp4: 640x384 2 QRCodes, 9.3ms\n",
            "video 1/1 (192/223) /content/drive/MyDrive/YoloV8/scorpio.mp4: 640x384 2 QRCodes, 9.6ms\n",
            "video 1/1 (193/223) /content/drive/MyDrive/YoloV8/scorpio.mp4: 640x384 2 QRCodes, 10.5ms\n",
            "video 1/1 (194/223) /content/drive/MyDrive/YoloV8/scorpio.mp4: 640x384 2 QRCodes, 9.2ms\n",
            "video 1/1 (195/223) /content/drive/MyDrive/YoloV8/scorpio.mp4: 640x384 1 QRCode, 9.6ms\n",
            "video 1/1 (196/223) /content/drive/MyDrive/YoloV8/scorpio.mp4: 640x384 2 QRCodes, 9.2ms\n",
            "video 1/1 (197/223) /content/drive/MyDrive/YoloV8/scorpio.mp4: 640x384 2 QRCodes, 9.9ms\n",
            "video 1/1 (198/223) /content/drive/MyDrive/YoloV8/scorpio.mp4: 640x384 3 QRCodes, 11.2ms\n",
            "video 1/1 (199/223) /content/drive/MyDrive/YoloV8/scorpio.mp4: 640x384 4 QRCodes, 9.5ms\n",
            "video 1/1 (200/223) /content/drive/MyDrive/YoloV8/scorpio.mp4: 640x384 4 QRCodes, 9.7ms\n",
            "video 1/1 (201/223) /content/drive/MyDrive/YoloV8/scorpio.mp4: 640x384 3 QRCodes, 9.2ms\n",
            "video 1/1 (202/223) /content/drive/MyDrive/YoloV8/scorpio.mp4: 640x384 3 QRCodes, 9.2ms\n",
            "video 1/1 (203/223) /content/drive/MyDrive/YoloV8/scorpio.mp4: 640x384 2 QRCodes, 9.5ms\n",
            "video 1/1 (204/223) /content/drive/MyDrive/YoloV8/scorpio.mp4: 640x384 3 QRCodes, 9.4ms\n",
            "video 1/1 (205/223) /content/drive/MyDrive/YoloV8/scorpio.mp4: 640x384 12.3ms\n",
            "video 1/1 (206/223) /content/drive/MyDrive/YoloV8/scorpio.mp4: 640x384 8.7ms\n",
            "video 1/1 (207/223) /content/drive/MyDrive/YoloV8/scorpio.mp4: 640x384 9.2ms\n",
            "video 1/1 (208/223) /content/drive/MyDrive/YoloV8/scorpio.mp4: 640x384 9.0ms\n",
            "video 1/1 (209/223) /content/drive/MyDrive/YoloV8/scorpio.mp4: 640x384 9.4ms\n",
            "video 1/1 (210/223) /content/drive/MyDrive/YoloV8/scorpio.mp4: 640x384 9.4ms\n",
            "video 1/1 (211/223) /content/drive/MyDrive/YoloV8/scorpio.mp4: 640x384 9.0ms\n",
            "video 1/1 (212/223) /content/drive/MyDrive/YoloV8/scorpio.mp4: 640x384 9.4ms\n",
            "video 1/1 (213/223) /content/drive/MyDrive/YoloV8/scorpio.mp4: 640x384 9.3ms\n",
            "video 1/1 (214/223) /content/drive/MyDrive/YoloV8/scorpio.mp4: 640x384 9.3ms\n",
            "video 1/1 (215/223) /content/drive/MyDrive/YoloV8/scorpio.mp4: 640x384 10.2ms\n",
            "video 1/1 (216/223) /content/drive/MyDrive/YoloV8/scorpio.mp4: 640x384 9.8ms\n",
            "video 1/1 (217/223) /content/drive/MyDrive/YoloV8/scorpio.mp4: 640x384 8.9ms\n",
            "video 1/1 (218/223) /content/drive/MyDrive/YoloV8/scorpio.mp4: 640x384 9.1ms\n",
            "video 1/1 (219/223) /content/drive/MyDrive/YoloV8/scorpio.mp4: 640x384 9.0ms\n",
            "video 1/1 (220/223) /content/drive/MyDrive/YoloV8/scorpio.mp4: 640x384 9.1ms\n",
            "video 1/1 (221/223) /content/drive/MyDrive/YoloV8/scorpio.mp4: 640x384 9.1ms\n",
            "video 1/1 (222/223) /content/drive/MyDrive/YoloV8/scorpio.mp4: 640x384 12.9ms\n",
            "video 1/1 (223/223) /content/drive/MyDrive/YoloV8/scorpio.mp4: 640x384 9.4ms\n",
            "Speed: 0.4ms pre-process, 9.8ms inference, 1.4ms postprocess per image at shape (1, 3, 640, 640)\n",
            "Results saved to \u001b[1mruns/detect/predict4\u001b[0m\n"
          ]
        }
      ]
    },
    {
      "cell_type": "code",
      "source": [],
      "metadata": {
        "id": "0QePgUf4N0Ad"
      },
      "execution_count": null,
      "outputs": []
    },
    {
      "cell_type": "code",
      "source": [],
      "metadata": {
        "id": "MU46CP1wNz8m"
      },
      "execution_count": null,
      "outputs": []
    },
    {
      "cell_type": "code",
      "source": [],
      "metadata": {
        "id": "rnEKPG3YNz7G"
      },
      "execution_count": null,
      "outputs": []
    },
    {
      "cell_type": "code",
      "source": [],
      "metadata": {
        "id": "668g7yhGNz25"
      },
      "execution_count": null,
      "outputs": []
    },
    {
      "cell_type": "code",
      "source": [],
      "metadata": {
        "id": "rXh05_q7Nz12"
      },
      "execution_count": null,
      "outputs": []
    }
  ]
}